{
  "nbformat": 4,
  "nbformat_minor": 0,
  "metadata": {
    "colab": {
      "provenance": [],
      "authorship_tag": "ABX9TyM0zx/O92mm/sf6mnp4oPh5",
      "include_colab_link": true
    },
    "kernelspec": {
      "name": "python3",
      "display_name": "Python 3"
    },
    "language_info": {
      "name": "python"
    }
  },
  "cells": [
    {
      "cell_type": "markdown",
      "metadata": {
        "id": "view-in-github",
        "colab_type": "text"
      },
      "source": [
        "<a href=\"https://colab.research.google.com/github/RAFS20/Finance/blob/main/Black_Scholes_Merton.ipynb\" target=\"_parent\"><img src=\"https://colab.research.google.com/assets/colab-badge.svg\" alt=\"Open In Colab\"/></a>"
      ]
    },
    {
      "cell_type": "code",
      "source": [
        "import yfinance as yf\n",
        "import numpy as np\n",
        "from scipy.stats import norm\n",
        "from datetime import datetime\n",
        "\n",
        "def black_scholes_merton_price(option_type, S, K, T, r, sigma):\n",
        "    \"\"\"Compute the Black-Scholes-Merton price for an option.\"\"\"\n",
        "    d1 = (np.log(S / K) + (r + (sigma ** 2) / 2) * T) / (sigma * np.sqrt(T))\n",
        "    d2 = d1 - sigma * np.sqrt(T)\n",
        "\n",
        "    if option_type == \"call\":\n",
        "        return S * norm.cdf(d1) - K * np.exp(-r * T) * norm.cdf(d2)\n",
        "    elif option_type == \"put\":\n",
        "        return K * np.exp(-r * T) * norm.cdf(-d2) - S * norm.cdf(-d1)\n",
        "    else:\n",
        "        raise ValueError(\"Invalid option type\")\n",
        "\n",
        "def get_relevant_strike_price(strike_prices, current_price, option_type, position):\n",
        "    \"\"\"Retrieve the appropriate strike price based on the option type and position.\"\"\"\n",
        "    if position == 'ATM':\n",
        "        return min(strike_prices, key=lambda x: abs(x - current_price))\n",
        "\n",
        "    # Dictionary to define the conditions for each type and position\n",
        "    conditions = {\n",
        "        'call': {\n",
        "            'ITM': lambda x: x < current_price,\n",
        "            'OTM': lambda x: x > current_price\n",
        "        },\n",
        "        'put': {\n",
        "            'ITM': lambda x: x > current_price,\n",
        "            'OTM': lambda x: x < current_price\n",
        "        }\n",
        "    }\n",
        "\n",
        "    # Filter strike prices based on conditions\n",
        "    relevant_strikes = [strike for strike in strike_prices if conditions[option_type][position](strike)]\n",
        "    return max(relevant_strikes) if (option_type == \"call\" and position == \"ITM\") or (option_type == \"put\" and position == \"OTM\") else min(relevant_strikes)\n",
        "\n",
        "def fetch_financial_data(ticker_symbol, start_date, end_date):\n",
        "    \"\"\"Fetch option and stock data for the provided ticker.\"\"\"\n",
        "    try:\n",
        "        ticker = yf.Ticker(ticker_symbol)\n",
        "        strike_prices = ticker.option_chain(ticker.options[0]).calls['strike'].tolist() if ticker.options else []\n",
        "        stock_data = yf.download(ticker_symbol, start=start_date, end=end_date)\n",
        "        risk_free_data = yf.download(\"^IRX\", start=start_date, end=end_date)\n",
        "        return strike_prices, stock_data, risk_free_data\n",
        "    except Exception as e:\n",
        "        print(f\"Error retrieving data: {e}\")\n",
        "        return [], None, None\n",
        "\n",
        "def extract_option_parameters(stock_data, risk_free_data, expiration_date_str):\n",
        "    \"\"\"Extract necessary parameters for Black-Scholes-Merton formula.\"\"\"\n",
        "    days_to_expiration = (datetime.strptime(expiration_date_str, '%Y-%m-%d') - stock_data.index[-1].to_pydatetime()).days\n",
        "    T = days_to_expiration / 252\n",
        "    S = stock_data[\"Adj Close\"].iloc[-1]\n",
        "    r = risk_free_data[\"Adj Close\"].iloc[-1] / 100\n",
        "    log_returns = np.log(stock_data['Adj Close'] / stock_data['Adj Close'].shift(1))\n",
        "    sigma = log_returns.std() * np.sqrt(252)\n",
        "    return S, r, sigma, T\n",
        "\n",
        "def main():\n",
        "    \"\"\"Main execution.\"\"\"\n",
        "    ticker_symbol = \"AAPL\"\n",
        "    start_date, end_date, expiration_date_str = \"2023-01-01\", \"2023-12-31\", \"2023-12-31\"\n",
        "    option_type = \"call\"\n",
        "\n",
        "    strike_prices, stock_data, risk_free_data = fetch_financial_data(ticker_symbol, start_date, end_date)\n",
        "\n",
        "    # Check for empty dataframes\n",
        "    if not stock_data.empty and not risk_free_data.empty:\n",
        "        S, r, sigma, T = extract_option_parameters(stock_data, risk_free_data, expiration_date_str)\n",
        "\n",
        "        for position in ['ATM', 'ITM', 'OTM']:\n",
        "            strike = get_relevant_strike_price(strike_prices, S, option_type, position)\n",
        "            price = black_scholes_merton_price(option_type, S, strike, T, r, sigma)\n",
        "            print(f\"The price of the {option_type} {position} option with a strike price of ${strike:.2f} is: ${price:.2f}\")\n",
        "\n",
        "if __name__ == \"__main__\":\n",
        "    main()\n",
        "\n"
      ],
      "metadata": {
        "colab": {
          "base_uri": "https://localhost:8080/"
        },
        "id": "BtBRuTGSl49D",
        "outputId": "16166958-9535-4bb3-f74f-c01e413eb3bf"
      },
      "execution_count": 19,
      "outputs": [
        {
          "output_type": "stream",
          "name": "stdout",
          "text": [
            "[*********************100%%**********************]  1 of 1 completed\n",
            "[*********************100%%**********************]  1 of 1 completed\n",
            "The price of the call ATM option with a strike price of $175.00 is: $11.06\n",
            "The price of the call ITM option with a strike price of $172.50 is: $12.42\n",
            "The price of the call OTM option with a strike price of $175.00 is: $11.06\n"
          ]
        }
      ]
    }
  ]
}